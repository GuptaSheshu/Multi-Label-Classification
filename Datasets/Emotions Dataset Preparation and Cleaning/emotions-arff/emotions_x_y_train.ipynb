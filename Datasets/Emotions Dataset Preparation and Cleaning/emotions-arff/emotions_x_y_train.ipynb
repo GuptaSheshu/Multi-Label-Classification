{
 "cells": [
  {
   "cell_type": "code",
   "execution_count": 1,
   "id": "51a68adf",
   "metadata": {
    "scrolled": true
   },
   "outputs": [
    {
     "data": {
      "text/html": [
       "<div>\n",
       "<style scoped>\n",
       "    .dataframe tbody tr th:only-of-type {\n",
       "        vertical-align: middle;\n",
       "    }\n",
       "\n",
       "    .dataframe tbody tr th {\n",
       "        vertical-align: top;\n",
       "    }\n",
       "\n",
       "    .dataframe thead th {\n",
       "        text-align: right;\n",
       "    }\n",
       "</style>\n",
       "<table border=\"1\" class=\"dataframe\">\n",
       "  <thead>\n",
       "    <tr style=\"text-align: right;\">\n",
       "      <th></th>\n",
       "      <th>Mean_Acc1298_Mean_Mem40_Centroid</th>\n",
       "      <th>Mean_Acc1298_Mean_Mem40_Rolloff</th>\n",
       "      <th>Mean_Acc1298_Mean_Mem40_Flux</th>\n",
       "      <th>Mean_Acc1298_Mean_Mem40_MFCC_0</th>\n",
       "      <th>Mean_Acc1298_Mean_Mem40_MFCC_1</th>\n",
       "      <th>Mean_Acc1298_Mean_Mem40_MFCC_2</th>\n",
       "      <th>Mean_Acc1298_Mean_Mem40_MFCC_3</th>\n",
       "      <th>Mean_Acc1298_Mean_Mem40_MFCC_4</th>\n",
       "      <th>Mean_Acc1298_Mean_Mem40_MFCC_5</th>\n",
       "      <th>Mean_Acc1298_Mean_Mem40_MFCC_6</th>\n",
       "      <th>...</th>\n",
       "      <th>BH_HighLowRatio</th>\n",
       "      <th>BHSUM1</th>\n",
       "      <th>BHSUM2</th>\n",
       "      <th>BHSUM3</th>\n",
       "      <th>amazed-suprised</th>\n",
       "      <th>happy-pleased</th>\n",
       "      <th>relaxing-calm</th>\n",
       "      <th>quiet-still</th>\n",
       "      <th>sad-lonely</th>\n",
       "      <th>angry-aggresive</th>\n",
       "    </tr>\n",
       "  </thead>\n",
       "  <tbody>\n",
       "    <tr>\n",
       "      <th>0</th>\n",
       "      <td>0.034741</td>\n",
       "      <td>0.089665</td>\n",
       "      <td>0.091225</td>\n",
       "      <td>-73.302422</td>\n",
       "      <td>6.215179</td>\n",
       "      <td>0.615074</td>\n",
       "      <td>2.037160</td>\n",
       "      <td>0.804065</td>\n",
       "      <td>1.301409</td>\n",
       "      <td>0.558576</td>\n",
       "      <td>...</td>\n",
       "      <td>2.0</td>\n",
       "      <td>0.245457</td>\n",
       "      <td>0.105065</td>\n",
       "      <td>0.405399</td>\n",
       "      <td>b'0'</td>\n",
       "      <td>b'1'</td>\n",
       "      <td>b'1'</td>\n",
       "      <td>b'0'</td>\n",
       "      <td>b'0'</td>\n",
       "      <td>b'0'</td>\n",
       "    </tr>\n",
       "    <tr>\n",
       "      <th>1</th>\n",
       "      <td>0.081374</td>\n",
       "      <td>0.272747</td>\n",
       "      <td>0.085733</td>\n",
       "      <td>-62.584437</td>\n",
       "      <td>3.183163</td>\n",
       "      <td>-0.218145</td>\n",
       "      <td>0.163038</td>\n",
       "      <td>0.620251</td>\n",
       "      <td>0.458514</td>\n",
       "      <td>0.041426</td>\n",
       "      <td>...</td>\n",
       "      <td>2.0</td>\n",
       "      <td>0.343547</td>\n",
       "      <td>0.276366</td>\n",
       "      <td>0.710924</td>\n",
       "      <td>b'1'</td>\n",
       "      <td>b'0'</td>\n",
       "      <td>b'0'</td>\n",
       "      <td>b'0'</td>\n",
       "      <td>b'0'</td>\n",
       "      <td>b'1'</td>\n",
       "    </tr>\n",
       "    <tr>\n",
       "      <th>2</th>\n",
       "      <td>0.110545</td>\n",
       "      <td>0.273567</td>\n",
       "      <td>0.084410</td>\n",
       "      <td>-65.235325</td>\n",
       "      <td>2.794964</td>\n",
       "      <td>0.639047</td>\n",
       "      <td>1.281297</td>\n",
       "      <td>0.757896</td>\n",
       "      <td>0.489412</td>\n",
       "      <td>0.627636</td>\n",
       "      <td>...</td>\n",
       "      <td>3.0</td>\n",
       "      <td>0.188693</td>\n",
       "      <td>0.045941</td>\n",
       "      <td>0.457372</td>\n",
       "      <td>b'0'</td>\n",
       "      <td>b'1'</td>\n",
       "      <td>b'0'</td>\n",
       "      <td>b'0'</td>\n",
       "      <td>b'0'</td>\n",
       "      <td>b'1'</td>\n",
       "    </tr>\n",
       "    <tr>\n",
       "      <th>3</th>\n",
       "      <td>0.042481</td>\n",
       "      <td>0.199281</td>\n",
       "      <td>0.093447</td>\n",
       "      <td>-80.305152</td>\n",
       "      <td>5.824409</td>\n",
       "      <td>0.648848</td>\n",
       "      <td>1.754870</td>\n",
       "      <td>1.495532</td>\n",
       "      <td>0.739909</td>\n",
       "      <td>0.809644</td>\n",
       "      <td>...</td>\n",
       "      <td>2.0</td>\n",
       "      <td>0.102839</td>\n",
       "      <td>0.241934</td>\n",
       "      <td>0.351009</td>\n",
       "      <td>b'0'</td>\n",
       "      <td>b'0'</td>\n",
       "      <td>b'1'</td>\n",
       "      <td>b'0'</td>\n",
       "      <td>b'0'</td>\n",
       "      <td>b'0'</td>\n",
       "    </tr>\n",
       "    <tr>\n",
       "      <th>4</th>\n",
       "      <td>0.074550</td>\n",
       "      <td>0.140880</td>\n",
       "      <td>0.079789</td>\n",
       "      <td>-93.697749</td>\n",
       "      <td>5.543229</td>\n",
       "      <td>1.064262</td>\n",
       "      <td>0.899152</td>\n",
       "      <td>0.890336</td>\n",
       "      <td>0.702328</td>\n",
       "      <td>0.490685</td>\n",
       "      <td>...</td>\n",
       "      <td>2.0</td>\n",
       "      <td>0.195196</td>\n",
       "      <td>0.310801</td>\n",
       "      <td>0.683817</td>\n",
       "      <td>b'0'</td>\n",
       "      <td>b'0'</td>\n",
       "      <td>b'0'</td>\n",
       "      <td>b'1'</td>\n",
       "      <td>b'0'</td>\n",
       "      <td>b'0'</td>\n",
       "    </tr>\n",
       "  </tbody>\n",
       "</table>\n",
       "<p>5 rows × 78 columns</p>\n",
       "</div>"
      ],
      "text/plain": [
       "   Mean_Acc1298_Mean_Mem40_Centroid  Mean_Acc1298_Mean_Mem40_Rolloff  \\\n",
       "0                          0.034741                         0.089665   \n",
       "1                          0.081374                         0.272747   \n",
       "2                          0.110545                         0.273567   \n",
       "3                          0.042481                         0.199281   \n",
       "4                          0.074550                         0.140880   \n",
       "\n",
       "   Mean_Acc1298_Mean_Mem40_Flux  Mean_Acc1298_Mean_Mem40_MFCC_0  \\\n",
       "0                      0.091225                      -73.302422   \n",
       "1                      0.085733                      -62.584437   \n",
       "2                      0.084410                      -65.235325   \n",
       "3                      0.093447                      -80.305152   \n",
       "4                      0.079789                      -93.697749   \n",
       "\n",
       "   Mean_Acc1298_Mean_Mem40_MFCC_1  Mean_Acc1298_Mean_Mem40_MFCC_2  \\\n",
       "0                        6.215179                        0.615074   \n",
       "1                        3.183163                       -0.218145   \n",
       "2                        2.794964                        0.639047   \n",
       "3                        5.824409                        0.648848   \n",
       "4                        5.543229                        1.064262   \n",
       "\n",
       "   Mean_Acc1298_Mean_Mem40_MFCC_3  Mean_Acc1298_Mean_Mem40_MFCC_4  \\\n",
       "0                        2.037160                        0.804065   \n",
       "1                        0.163038                        0.620251   \n",
       "2                        1.281297                        0.757896   \n",
       "3                        1.754870                        1.495532   \n",
       "4                        0.899152                        0.890336   \n",
       "\n",
       "   Mean_Acc1298_Mean_Mem40_MFCC_5  Mean_Acc1298_Mean_Mem40_MFCC_6  ...  \\\n",
       "0                        1.301409                        0.558576  ...   \n",
       "1                        0.458514                        0.041426  ...   \n",
       "2                        0.489412                        0.627636  ...   \n",
       "3                        0.739909                        0.809644  ...   \n",
       "4                        0.702328                        0.490685  ...   \n",
       "\n",
       "   BH_HighLowRatio    BHSUM1    BHSUM2    BHSUM3  amazed-suprised  \\\n",
       "0              2.0  0.245457  0.105065  0.405399             b'0'   \n",
       "1              2.0  0.343547  0.276366  0.710924             b'1'   \n",
       "2              3.0  0.188693  0.045941  0.457372             b'0'   \n",
       "3              2.0  0.102839  0.241934  0.351009             b'0'   \n",
       "4              2.0  0.195196  0.310801  0.683817             b'0'   \n",
       "\n",
       "   happy-pleased  relaxing-calm  quiet-still  sad-lonely  angry-aggresive  \n",
       "0           b'1'           b'1'         b'0'        b'0'             b'0'  \n",
       "1           b'0'           b'0'         b'0'        b'0'             b'1'  \n",
       "2           b'1'           b'0'         b'0'        b'0'             b'1'  \n",
       "3           b'0'           b'1'         b'0'        b'0'             b'0'  \n",
       "4           b'0'           b'0'         b'1'        b'0'             b'0'  \n",
       "\n",
       "[5 rows x 78 columns]"
      ]
     },
     "execution_count": 1,
     "metadata": {},
     "output_type": "execute_result"
    }
   ],
   "source": [
    "#Viewing some values\n",
    "\n",
    "import numpy as np\n",
    "from scipy.io import arff\n",
    "import pandas as pd\n",
    "\n",
    "data = arff.loadarff('./emotions-train.arff') #change the address file\n",
    "df = pd.DataFrame(data[0])\n",
    "\n",
    "df.head()"
   ]
  },
  {
   "cell_type": "markdown",
   "id": "1699071f",
   "metadata": {},
   "source": [
    "# For Training"
   ]
  },
  {
   "cell_type": "code",
   "execution_count": 2,
   "id": "e5a7cb96",
   "metadata": {},
   "outputs": [
    {
     "data": {
      "text/plain": [
       "(391, 72)"
      ]
     },
     "execution_count": 2,
     "metadata": {},
     "output_type": "execute_result"
    }
   ],
   "source": [
    "data, meta = arff.loadarff('./emotions-train.arff') #72 numeric, 6 labels \n",
    "#print(data) \n",
    "data[390][77] #391x78 #no. of data point=391\n",
    "\n",
    "x_train=[]\n",
    "y_train=[]\n",
    "x_t = np.zeros((391, 1))\n",
    "y_t = np.zeros((391, 1))\n",
    "\n",
    "for i in range(391):\n",
    "    for j in range(72):\n",
    "        x_t=data[i][j]\n",
    "        #print(x_t)\n",
    "        x_train.append(x_t)\n",
    "        \n",
    "for i in range(391):\n",
    "    for j in range(72,78):\n",
    "        y_t=data[i][j]\n",
    "        #print(y_t)\n",
    "        y_train.append(y_t)\n",
    "        \n",
    "x_train=np.array(x_train)\n",
    "x_train=np.reshape(x_train, (391, 72))\n",
    "x_train\n",
    "y_train=np.array(y_train, dtype='int64')\n",
    "y_train=np.reshape(y_train, (391, 6))\n",
    "x_train.shape\n"
   ]
  },
  {
   "cell_type": "code",
   "execution_count": 3,
   "id": "a9135ce0",
   "metadata": {
    "scrolled": true
   },
   "outputs": [
    {
     "data": {
      "text/plain": [
       "array([[0, 1, 1, 0, 0, 0],\n",
       "       [1, 0, 0, 0, 0, 1],\n",
       "       [0, 1, 0, 0, 0, 1],\n",
       "       ...,\n",
       "       [0, 1, 1, 0, 0, 0],\n",
       "       [0, 0, 0, 1, 1, 0],\n",
       "       [0, 1, 1, 0, 0, 0]])"
      ]
     },
     "execution_count": 3,
     "metadata": {},
     "output_type": "execute_result"
    }
   ],
   "source": [
    "np.save('Xtrain_2021-11-24.npy', x_train)\n",
    "np.save('Ytrainbin_2021-11-24.npy', y_train)\n",
    "np.load(\"Ytrainbin_2021-11-24.npy\")\n",
    "#y_train\n",
    "#y_train[1].dot(2**np.arange(y_train[0].size)[::-1])"
   ]
  },
  {
   "cell_type": "code",
   "execution_count": 4,
   "id": "225fe799",
   "metadata": {
    "scrolled": true
   },
   "outputs": [
    {
     "data": {
      "text/plain": [
       "array([24., 33., 17.,  8.,  4., 24., 48.,  1., 48., 14., 24.,  8., 32.,\n",
       "       10.,  2., 33., 14., 24.,  3., 14., 33., 16., 16.,  1.,  1.,  9.,\n",
       "        8., 49., 16.,  8.,  1., 12., 33.,  1., 48., 24., 14., 24., 48.,\n",
       "       33., 16., 34., 14., 24., 48., 24., 14., 24.,  1., 33.,  1., 11.,\n",
       "        1., 33., 33., 14., 14., 10., 48., 18.,  3., 24., 12., 14., 14.,\n",
       "       33.,  8., 14., 24., 33.,  2., 33.,  1., 56., 40., 11., 24., 24.,\n",
       "        1.,  1.,  1., 32., 10., 32.,  8., 12., 10., 12.,  1., 17.,  2.,\n",
       "       33., 10., 24., 33.,  1., 14., 33.,  1., 48.,  8.,  1.,  1.,  8.,\n",
       "       33., 24., 33., 48.,  1., 32., 14., 33.,  1.,  3., 28., 24., 49.,\n",
       "       10., 10.,  9., 14.,  1., 24., 33.,  6., 24., 33., 12.,  1., 32.,\n",
       "       24., 48., 24.,  3., 32.,  1., 32., 24., 14., 33., 10.,  1.,  8.,\n",
       "       33., 33., 48., 16., 32., 33.,  1., 16., 32.,  6., 33., 33., 28.,\n",
       "       10.,  6.,  1., 14.,  1.,  1., 16.,  8., 33.,  1., 10.,  1., 14.,\n",
       "        1., 32., 10., 14.,  1.,  1., 33.,  1., 16., 32., 24., 33.,  8.,\n",
       "       24.,  1., 32., 16.,  6., 12., 24.,  8., 16., 24., 33.,  8., 12.,\n",
       "       24., 33., 33., 16.,  2., 56., 32., 10.,  1., 10.,  1., 48.,  4.,\n",
       "        1., 14., 16., 33., 33.,  1., 32.,  2., 14., 33.,  6.,  1., 33.,\n",
       "        1., 24.,  8., 28.,  1.,  1., 33., 24., 32., 14., 32., 24., 48.,\n",
       "       12., 14., 24.,  1., 16., 16., 24.,  1., 48., 14., 12., 33., 33.,\n",
       "       48., 16., 24., 56.,  8.,  4., 14., 56., 20., 10., 33., 48., 33.,\n",
       "       48.,  1., 33., 48., 33., 33., 28., 33., 10., 12.,  3., 24., 12.,\n",
       "        1., 14., 32., 24., 14., 33., 33., 10.,  1., 48., 40., 33., 14.,\n",
       "       12.,  8.,  1.,  3., 10., 14., 33.,  1.,  2., 13., 33., 34.,  8.,\n",
       "        6.,  6., 14.,  6., 34., 33., 48., 34., 12., 24., 24., 14., 33.,\n",
       "        8.,  1., 12., 14.,  4., 12., 14., 33., 12., 12.,  8., 24.,  6.,\n",
       "        6., 48., 24., 32., 33.,  8.,  1., 24., 14., 24., 12.,  4., 48.,\n",
       "        8.,  1., 33., 16., 14.,  2., 24., 14.,  8., 32., 12., 12.,  6.,\n",
       "        6.,  1.,  1., 10., 16., 56., 56.,  6., 48., 14., 14., 12., 17.,\n",
       "       56., 33., 48., 49., 24.,  8.,  6., 32., 28., 33., 32., 24., 10.,\n",
       "        7.,  8., 33., 32., 24., 16., 14.,  6., 14.,  1., 33., 24.,  6.,\n",
       "       24.])"
      ]
     },
     "execution_count": 4,
     "metadata": {},
     "output_type": "execute_result"
    }
   ],
   "source": [
    "#Converting y_train into decimal form\n",
    "def bool2int(x):\n",
    "    y = 0.0\n",
    "    for i,j in enumerate(x):\n",
    "        y += j<<i\n",
    "    return y\n",
    "\n",
    "y_train_decimal = [bool2int(x[::-1]) for x in y_train]\n",
    "y_train_decimal = np.array(y_train_decimal)\n",
    "#y_train_decimal\n",
    "\n",
    "np.save('Ytrain_2021-11-24.npy', y_train_decimal)\n",
    "np.load('Ytrain_2021-11-24.npy')"
   ]
  },
  {
   "cell_type": "markdown",
   "id": "7bf109b7",
   "metadata": {},
   "source": [
    "# For Testing"
   ]
  },
  {
   "cell_type": "code",
   "execution_count": 5,
   "id": "f7d8bb85",
   "metadata": {
    "scrolled": true
   },
   "outputs": [
    {
     "data": {
      "text/plain": [
       "0.036299"
      ]
     },
     "execution_count": 5,
     "metadata": {},
     "output_type": "execute_result"
    }
   ],
   "source": [
    "data2, meta = arff.loadarff('/Users/upasanathakuria/Desktop/emotions/emotions-test.arff') #72 numeric, 6 labels (202x78)\n",
    "#print(data2) \n",
    "data2[0][0]"
   ]
  },
  {
   "cell_type": "code",
   "execution_count": 6,
   "id": "481a65ba",
   "metadata": {},
   "outputs": [
    {
     "data": {
      "text/plain": [
       "(202, 6)"
      ]
     },
     "execution_count": 6,
     "metadata": {},
     "output_type": "execute_result"
    }
   ],
   "source": [
    "x_test=[]\n",
    "y_test=[]\n",
    "x_te = np.zeros((202, 1))\n",
    "y_te = np.zeros((202, 1))\n",
    "\n",
    "for i in range(202):\n",
    "    for j in range(72):\n",
    "        x_te=data2[i][j]\n",
    "        #print(x_t)\n",
    "        x_test.append(x_te)\n",
    "        \n",
    "for i in range(202):\n",
    "    for j in range(72,78):\n",
    "        y_te=data2[i][j]\n",
    "        #print(y_t)\n",
    "        y_test.append(y_te)\n",
    "x_test=np.array(x_test)\n",
    "x_test=np.reshape(x_test, (202, 72))\n",
    "x_test\n",
    "y_test=np.array(y_test, dtype='int64')\n",
    "y_test=np.reshape(y_test, (202, 6))\n",
    "y_test.shape"
   ]
  },
  {
   "cell_type": "code",
   "execution_count": 7,
   "id": "a962aa87",
   "metadata": {},
   "outputs": [],
   "source": [
    "np.save('Xtest_2021-11-24.npy', x_test)\n",
    "np.save('Ytestbin_2021-11-24.npy', y_test)"
   ]
  },
  {
   "cell_type": "code",
   "execution_count": 8,
   "id": "0a2c5263",
   "metadata": {},
   "outputs": [
    {
     "data": {
      "text/plain": [
       "array([[0, 0, 1, 1, 1, 0],\n",
       "       [1, 0, 0, 0, 0, 1],\n",
       "       [0, 0, 0, 0, 1, 0],\n",
       "       ...,\n",
       "       [0, 0, 1, 1, 1, 0],\n",
       "       [0, 1, 1, 0, 0, 0],\n",
       "       [0, 1, 0, 0, 0, 0]])"
      ]
     },
     "execution_count": 8,
     "metadata": {},
     "output_type": "execute_result"
    }
   ],
   "source": [
    "np.load(\"Ytestbin_2021-11-24.npy\")"
   ]
  },
  {
   "cell_type": "code",
   "execution_count": 9,
   "id": "2dc1f741",
   "metadata": {},
   "outputs": [
    {
     "data": {
      "text/plain": [
       "array([14., 33.,  2., 24.,  2., 10., 33., 14.,  3., 14., 28., 14., 48.,\n",
       "       35., 33., 14.,  8.,  6., 48., 24., 49., 14., 33., 34., 14., 14.,\n",
       "       14.,  1., 48., 24., 14.,  3.,  8., 24., 48.,  6., 12.,  8., 17.,\n",
       "        1., 33., 10., 10.,  6.,  6., 14., 33., 33., 16., 24.,  1., 14.,\n",
       "        6.,  8.,  6., 49., 48.,  6., 24.,  6.,  8.,  6., 48., 33., 24.,\n",
       "        8., 24., 14., 33., 14., 56., 24.,  1.,  1.,  6., 17., 48.,  8.,\n",
       "       12.,  6., 12., 10.,  1.,  1., 24.,  2., 33., 14., 33., 34., 14.,\n",
       "       24., 33., 24.,  6., 48.,  1., 33.,  3., 16.,  6., 24.,  6.,  1.,\n",
       "        1., 24., 14., 24.,  8., 56.,  2., 48.,  1.,  8.,  8.,  8., 10.,\n",
       "       33., 14., 14.,  1., 24.,  1., 24., 33., 33.,  8., 33.,  1.,  8.,\n",
       "        6., 12., 33.,  6., 24.,  9.,  8.,  1., 48., 24.,  6., 24.,  6.,\n",
       "       33.,  8., 32., 12.,  1., 32.,  6., 24., 12., 24., 35., 49.,  2.,\n",
       "       16., 49., 24., 48.,  1., 24., 16., 14.,  3.,  3., 48., 10., 24.,\n",
       "       56.,  6.,  8.,  6., 14., 11., 33., 14., 12., 14., 14., 33., 12.,\n",
       "       48.,  8., 12.,  3., 56., 14., 48.,  8., 33., 35., 48., 24., 14.,\n",
       "       24., 33., 14., 35., 14., 24., 16.])"
      ]
     },
     "execution_count": 9,
     "metadata": {},
     "output_type": "execute_result"
    }
   ],
   "source": [
    "#Converting y_test into decimal form\n",
    "def bool2int(x):\n",
    "    y = 0.0\n",
    "    for i,j in enumerate(x):\n",
    "        y += j<<i\n",
    "    return y\n",
    "\n",
    "y_test_decimal = [bool2int(x[::-1]) for x in y_test]\n",
    "y_test_decimal = np.array(y_test_decimal)\n",
    "#y_train_decimal\n",
    "\n",
    "np.save('Ytest_2021-11-24.npy', y_test_decimal)\n",
    "np.load('Ytest_2021-11-24.npy')\n",
    "#y_test_decimal.shape"
   ]
  },
  {
   "cell_type": "code",
   "execution_count": 10,
   "id": "7966976a",
   "metadata": {},
   "outputs": [
    {
     "data": {
      "text/plain": [
       "array([[0., 0., 1., 0., 0., 1.],\n",
       "       [0., 1., 1., 1., 1., 0.],\n",
       "       [0., 1., 1., 0., 0., 1.],\n",
       "       ...,\n",
       "       [0., 1., 0., 1., 0., 1.],\n",
       "       [1., 1., 0., 1., 0., 0.],\n",
       "       [1., 1., 1., 0., 0., 1.]])"
      ]
     },
     "execution_count": 10,
     "metadata": {},
     "output_type": "execute_result"
    }
   ],
   "source": [
    "np.load(\"/Users/upasanathakuria/Downloads/Ytestbin_2021-11-13.npy\")"
   ]
  },
  {
   "cell_type": "code",
   "execution_count": 11,
   "id": "82c8e41b",
   "metadata": {},
   "outputs": [
    {
     "data": {
      "text/plain": [
       "array([ 9., 30., 25., ..., 21., 52., 57.])"
      ]
     },
     "execution_count": 11,
     "metadata": {},
     "output_type": "execute_result"
    }
   ],
   "source": [
    "np.load(\"/Users/upasanathakuria/Downloads/Ytest_2021-11-13.npy\")"
   ]
  },
  {
   "cell_type": "code",
   "execution_count": 14,
   "id": "1d4d71f8",
   "metadata": {},
   "outputs": [],
   "source": [
    "##Using 1/4th of the total training data for validation\n",
    "\n",
    "Xtrain=np.load('Xtrain_2021-11-24.npy')\n",
    "Xtest=np.load('Xtest_2021-11-24.npy')\n",
    "Ytrain=np.load('Ytrain_2021-11-24.npy')\n",
    "Ytrain_bin=np.load('Ytrainbin_2021-11-24.npy')\n",
    "Ytest=np.load('Ytest_2021-11-24.npy')\n",
    "Ytest_bin=np.load('Ytestbin_2021-11-24.npy')\n",
    "\n",
    "n,d=Xtrain.shape\n",
    "cutoff=int(n*(4/5))\n",
    "Xtrain2=Xtrain[:cutoff,:]\n",
    "Ytrain2=Ytrain[:cutoff]\n",
    "Ytrain2_bin=Ytrain_bin[:cutoff,:]\n",
    "\n",
    "Xval=Xtrain[cutoff:,:]\n",
    "Yval=Ytrain[cutoff:]\n",
    "Yval_bin=Ytrain_bin[cutoff:,:]\n",
    "\n",
    "np.save('Xtrain_2021-11-25.npy',Xtrain2)\n",
    "np.save('Ytrain_2021-11-25.npy',Ytrain2)\n",
    "np.save('Ytrainbin_2021-11-25.npy',Ytrain2_bin)\n",
    "\n",
    "np.save('Xval_2021-11-25.npy',Xval)\n",
    "np.save('Yval_2021-11-25.npy',Yval)\n",
    "np.save('Yvalbin_2021-11-25.npy',Yval_bin)"
   ]
  },
  {
   "cell_type": "code",
   "execution_count": null,
   "id": "d0662cbc",
   "metadata": {},
   "outputs": [],
   "source": []
  }
 ],
 "metadata": {
  "kernelspec": {
   "display_name": "Python 3",
   "language": "python",
   "name": "python3"
  },
  "language_info": {
   "codemirror_mode": {
    "name": "ipython",
    "version": 3
   },
   "file_extension": ".py",
   "mimetype": "text/x-python",
   "name": "python",
   "nbconvert_exporter": "python",
   "pygments_lexer": "ipython3",
   "version": "3.8.8"
  }
 },
 "nbformat": 4,
 "nbformat_minor": 5
}
